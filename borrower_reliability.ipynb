{
 "cells": [
  {
   "cell_type": "markdown",
   "id": "3a70a14d-973f-4c57-890e-ae32252f48c8",
   "metadata": {},
   "source": [
    "# Исследование надежности заемщиков"
   ]
  },
  {
   "cell_type": "markdown",
   "id": "05576012-40c5-42f4-924a-d04aefbcc4a7",
   "metadata": {},
   "source": [
    "## 1. Открытие репозитория\n",
    "---"
   ]
  },
  {
   "cell_type": "markdown",
   "id": "acae0015-3306-4011-92e4-6eced7ab2865",
   "metadata": {},
   "source": [
    "### 1.1. Импортируем pandas и открываем репозиторий"
   ]
  },
  {
   "cell_type": "code",
   "execution_count": 1,
   "id": "2791fb2e-7f48-4b42-85f8-9763c28d9d86",
   "metadata": {},
   "outputs": [],
   "source": [
    "import pandas as pd"
   ]
  },
  {
   "cell_type": "code",
   "execution_count": 2,
   "id": "05063d37-4cab-4edb-9308-654ca29bfb9d",
   "metadata": {},
   "outputs": [],
   "source": [
    "# open file\n",
    "try:\n",
    "    data = pd.read_csv('/datasets/data.csv')\n",
    "except:\n",
    "    url = 'https://drive.google.com/file/d/10W78jJkPi7l6UJPiaL5ZXqh70Ky_jLaf/view?usp=sharing'\n",
    "    path = 'https://drive.google.com/uc?export=download&id='+url.split('/')[-2]\n",
    "    data = pd.read_csv(path)"
   ]
  },
  {
   "cell_type": "markdown",
   "id": "4f49f02b-eef8-4fa1-aa74-d2b9f77ded77",
   "metadata": {},
   "source": [
    "### 1.2. Вывод первых 20 ячеек датафрейма `data` на экран."
   ]
  },
  {
   "cell_type": "code",
   "execution_count": 3,
   "id": "92eb4365-f80b-4ba3-ab85-43f2a431a736",
   "metadata": {},
   "outputs": [
    {
     "data": {
      "text/html": [
       "<div>\n",
       "<style scoped>\n",
       "    .dataframe tbody tr th:only-of-type {\n",
       "        vertical-align: middle;\n",
       "    }\n",
       "\n",
       "    .dataframe tbody tr th {\n",
       "        vertical-align: top;\n",
       "    }\n",
       "\n",
       "    .dataframe thead th {\n",
       "        text-align: right;\n",
       "    }\n",
       "</style>\n",
       "<table border=\"1\" class=\"dataframe\">\n",
       "  <thead>\n",
       "    <tr style=\"text-align: right;\">\n",
       "      <th></th>\n",
       "      <th>children</th>\n",
       "      <th>days_employed</th>\n",
       "      <th>dob_years</th>\n",
       "      <th>education</th>\n",
       "      <th>education_id</th>\n",
       "      <th>family_status</th>\n",
       "      <th>family_status_id</th>\n",
       "      <th>gender</th>\n",
       "      <th>income_type</th>\n",
       "      <th>debt</th>\n",
       "      <th>total_income</th>\n",
       "      <th>purpose</th>\n",
       "    </tr>\n",
       "  </thead>\n",
       "  <tbody>\n",
       "    <tr>\n",
       "      <th>0</th>\n",
       "      <td>1</td>\n",
       "      <td>-8437.673028</td>\n",
       "      <td>42</td>\n",
       "      <td>высшее</td>\n",
       "      <td>0</td>\n",
       "      <td>женат / замужем</td>\n",
       "      <td>0</td>\n",
       "      <td>F</td>\n",
       "      <td>сотрудник</td>\n",
       "      <td>0</td>\n",
       "      <td>253875.639453</td>\n",
       "      <td>покупка жилья</td>\n",
       "    </tr>\n",
       "    <tr>\n",
       "      <th>1</th>\n",
       "      <td>1</td>\n",
       "      <td>-4024.803754</td>\n",
       "      <td>36</td>\n",
       "      <td>среднее</td>\n",
       "      <td>1</td>\n",
       "      <td>женат / замужем</td>\n",
       "      <td>0</td>\n",
       "      <td>F</td>\n",
       "      <td>сотрудник</td>\n",
       "      <td>0</td>\n",
       "      <td>112080.014102</td>\n",
       "      <td>приобретение автомобиля</td>\n",
       "    </tr>\n",
       "    <tr>\n",
       "      <th>2</th>\n",
       "      <td>0</td>\n",
       "      <td>-5623.422610</td>\n",
       "      <td>33</td>\n",
       "      <td>Среднее</td>\n",
       "      <td>1</td>\n",
       "      <td>женат / замужем</td>\n",
       "      <td>0</td>\n",
       "      <td>M</td>\n",
       "      <td>сотрудник</td>\n",
       "      <td>0</td>\n",
       "      <td>145885.952297</td>\n",
       "      <td>покупка жилья</td>\n",
       "    </tr>\n",
       "    <tr>\n",
       "      <th>3</th>\n",
       "      <td>3</td>\n",
       "      <td>-4124.747207</td>\n",
       "      <td>32</td>\n",
       "      <td>среднее</td>\n",
       "      <td>1</td>\n",
       "      <td>женат / замужем</td>\n",
       "      <td>0</td>\n",
       "      <td>M</td>\n",
       "      <td>сотрудник</td>\n",
       "      <td>0</td>\n",
       "      <td>267628.550329</td>\n",
       "      <td>дополнительное образование</td>\n",
       "    </tr>\n",
       "    <tr>\n",
       "      <th>4</th>\n",
       "      <td>0</td>\n",
       "      <td>340266.072047</td>\n",
       "      <td>53</td>\n",
       "      <td>среднее</td>\n",
       "      <td>1</td>\n",
       "      <td>гражданский брак</td>\n",
       "      <td>1</td>\n",
       "      <td>F</td>\n",
       "      <td>пенсионер</td>\n",
       "      <td>0</td>\n",
       "      <td>158616.077870</td>\n",
       "      <td>сыграть свадьбу</td>\n",
       "    </tr>\n",
       "    <tr>\n",
       "      <th>5</th>\n",
       "      <td>0</td>\n",
       "      <td>-926.185831</td>\n",
       "      <td>27</td>\n",
       "      <td>высшее</td>\n",
       "      <td>0</td>\n",
       "      <td>гражданский брак</td>\n",
       "      <td>1</td>\n",
       "      <td>M</td>\n",
       "      <td>компаньон</td>\n",
       "      <td>0</td>\n",
       "      <td>255763.565419</td>\n",
       "      <td>покупка жилья</td>\n",
       "    </tr>\n",
       "    <tr>\n",
       "      <th>6</th>\n",
       "      <td>0</td>\n",
       "      <td>-2879.202052</td>\n",
       "      <td>43</td>\n",
       "      <td>высшее</td>\n",
       "      <td>0</td>\n",
       "      <td>женат / замужем</td>\n",
       "      <td>0</td>\n",
       "      <td>F</td>\n",
       "      <td>компаньон</td>\n",
       "      <td>0</td>\n",
       "      <td>240525.971920</td>\n",
       "      <td>операции с жильем</td>\n",
       "    </tr>\n",
       "    <tr>\n",
       "      <th>7</th>\n",
       "      <td>0</td>\n",
       "      <td>-152.779569</td>\n",
       "      <td>50</td>\n",
       "      <td>СРЕДНЕЕ</td>\n",
       "      <td>1</td>\n",
       "      <td>женат / замужем</td>\n",
       "      <td>0</td>\n",
       "      <td>M</td>\n",
       "      <td>сотрудник</td>\n",
       "      <td>0</td>\n",
       "      <td>135823.934197</td>\n",
       "      <td>образование</td>\n",
       "    </tr>\n",
       "    <tr>\n",
       "      <th>8</th>\n",
       "      <td>2</td>\n",
       "      <td>-6929.865299</td>\n",
       "      <td>35</td>\n",
       "      <td>ВЫСШЕЕ</td>\n",
       "      <td>0</td>\n",
       "      <td>гражданский брак</td>\n",
       "      <td>1</td>\n",
       "      <td>F</td>\n",
       "      <td>сотрудник</td>\n",
       "      <td>0</td>\n",
       "      <td>95856.832424</td>\n",
       "      <td>на проведение свадьбы</td>\n",
       "    </tr>\n",
       "    <tr>\n",
       "      <th>9</th>\n",
       "      <td>0</td>\n",
       "      <td>-2188.756445</td>\n",
       "      <td>41</td>\n",
       "      <td>среднее</td>\n",
       "      <td>1</td>\n",
       "      <td>женат / замужем</td>\n",
       "      <td>0</td>\n",
       "      <td>M</td>\n",
       "      <td>сотрудник</td>\n",
       "      <td>0</td>\n",
       "      <td>144425.938277</td>\n",
       "      <td>покупка жилья для семьи</td>\n",
       "    </tr>\n",
       "    <tr>\n",
       "      <th>10</th>\n",
       "      <td>2</td>\n",
       "      <td>-4171.483647</td>\n",
       "      <td>36</td>\n",
       "      <td>высшее</td>\n",
       "      <td>0</td>\n",
       "      <td>женат / замужем</td>\n",
       "      <td>0</td>\n",
       "      <td>M</td>\n",
       "      <td>компаньон</td>\n",
       "      <td>0</td>\n",
       "      <td>113943.491460</td>\n",
       "      <td>покупка недвижимости</td>\n",
       "    </tr>\n",
       "    <tr>\n",
       "      <th>11</th>\n",
       "      <td>0</td>\n",
       "      <td>-792.701887</td>\n",
       "      <td>40</td>\n",
       "      <td>среднее</td>\n",
       "      <td>1</td>\n",
       "      <td>женат / замужем</td>\n",
       "      <td>0</td>\n",
       "      <td>F</td>\n",
       "      <td>сотрудник</td>\n",
       "      <td>0</td>\n",
       "      <td>77069.234271</td>\n",
       "      <td>покупка коммерческой недвижимости</td>\n",
       "    </tr>\n",
       "    <tr>\n",
       "      <th>12</th>\n",
       "      <td>0</td>\n",
       "      <td>NaN</td>\n",
       "      <td>65</td>\n",
       "      <td>среднее</td>\n",
       "      <td>1</td>\n",
       "      <td>гражданский брак</td>\n",
       "      <td>1</td>\n",
       "      <td>M</td>\n",
       "      <td>пенсионер</td>\n",
       "      <td>0</td>\n",
       "      <td>NaN</td>\n",
       "      <td>сыграть свадьбу</td>\n",
       "    </tr>\n",
       "    <tr>\n",
       "      <th>13</th>\n",
       "      <td>0</td>\n",
       "      <td>-1846.641941</td>\n",
       "      <td>54</td>\n",
       "      <td>неоконченное высшее</td>\n",
       "      <td>2</td>\n",
       "      <td>женат / замужем</td>\n",
       "      <td>0</td>\n",
       "      <td>F</td>\n",
       "      <td>сотрудник</td>\n",
       "      <td>0</td>\n",
       "      <td>130458.228857</td>\n",
       "      <td>приобретение автомобиля</td>\n",
       "    </tr>\n",
       "    <tr>\n",
       "      <th>14</th>\n",
       "      <td>0</td>\n",
       "      <td>-1844.956182</td>\n",
       "      <td>56</td>\n",
       "      <td>высшее</td>\n",
       "      <td>0</td>\n",
       "      <td>гражданский брак</td>\n",
       "      <td>1</td>\n",
       "      <td>F</td>\n",
       "      <td>компаньон</td>\n",
       "      <td>1</td>\n",
       "      <td>165127.911772</td>\n",
       "      <td>покупка жилой недвижимости</td>\n",
       "    </tr>\n",
       "    <tr>\n",
       "      <th>15</th>\n",
       "      <td>1</td>\n",
       "      <td>-972.364419</td>\n",
       "      <td>26</td>\n",
       "      <td>среднее</td>\n",
       "      <td>1</td>\n",
       "      <td>женат / замужем</td>\n",
       "      <td>0</td>\n",
       "      <td>F</td>\n",
       "      <td>сотрудник</td>\n",
       "      <td>0</td>\n",
       "      <td>116820.904450</td>\n",
       "      <td>строительство собственной недвижимости</td>\n",
       "    </tr>\n",
       "    <tr>\n",
       "      <th>16</th>\n",
       "      <td>0</td>\n",
       "      <td>-1719.934226</td>\n",
       "      <td>35</td>\n",
       "      <td>среднее</td>\n",
       "      <td>1</td>\n",
       "      <td>женат / замужем</td>\n",
       "      <td>0</td>\n",
       "      <td>F</td>\n",
       "      <td>сотрудник</td>\n",
       "      <td>0</td>\n",
       "      <td>289202.704229</td>\n",
       "      <td>недвижимость</td>\n",
       "    </tr>\n",
       "    <tr>\n",
       "      <th>17</th>\n",
       "      <td>0</td>\n",
       "      <td>-2369.999720</td>\n",
       "      <td>33</td>\n",
       "      <td>высшее</td>\n",
       "      <td>0</td>\n",
       "      <td>гражданский брак</td>\n",
       "      <td>1</td>\n",
       "      <td>M</td>\n",
       "      <td>сотрудник</td>\n",
       "      <td>0</td>\n",
       "      <td>90410.586745</td>\n",
       "      <td>строительство недвижимости</td>\n",
       "    </tr>\n",
       "    <tr>\n",
       "      <th>18</th>\n",
       "      <td>0</td>\n",
       "      <td>400281.136913</td>\n",
       "      <td>53</td>\n",
       "      <td>среднее</td>\n",
       "      <td>1</td>\n",
       "      <td>вдовец / вдова</td>\n",
       "      <td>2</td>\n",
       "      <td>F</td>\n",
       "      <td>пенсионер</td>\n",
       "      <td>0</td>\n",
       "      <td>56823.777243</td>\n",
       "      <td>на покупку подержанного автомобиля</td>\n",
       "    </tr>\n",
       "    <tr>\n",
       "      <th>19</th>\n",
       "      <td>0</td>\n",
       "      <td>-10038.818549</td>\n",
       "      <td>48</td>\n",
       "      <td>СРЕДНЕЕ</td>\n",
       "      <td>1</td>\n",
       "      <td>в разводе</td>\n",
       "      <td>3</td>\n",
       "      <td>F</td>\n",
       "      <td>сотрудник</td>\n",
       "      <td>0</td>\n",
       "      <td>242831.107982</td>\n",
       "      <td>на покупку своего автомобиля</td>\n",
       "    </tr>\n",
       "  </tbody>\n",
       "</table>\n",
       "</div>"
      ],
      "text/plain": [
       "    children  days_employed  dob_years            education  education_id  \\\n",
       "0          1   -8437.673028         42               высшее             0   \n",
       "1          1   -4024.803754         36              среднее             1   \n",
       "2          0   -5623.422610         33              Среднее             1   \n",
       "3          3   -4124.747207         32              среднее             1   \n",
       "4          0  340266.072047         53              среднее             1   \n",
       "5          0    -926.185831         27               высшее             0   \n",
       "6          0   -2879.202052         43               высшее             0   \n",
       "7          0    -152.779569         50              СРЕДНЕЕ             1   \n",
       "8          2   -6929.865299         35               ВЫСШЕЕ             0   \n",
       "9          0   -2188.756445         41              среднее             1   \n",
       "10         2   -4171.483647         36               высшее             0   \n",
       "11         0    -792.701887         40              среднее             1   \n",
       "12         0            NaN         65              среднее             1   \n",
       "13         0   -1846.641941         54  неоконченное высшее             2   \n",
       "14         0   -1844.956182         56               высшее             0   \n",
       "15         1    -972.364419         26              среднее             1   \n",
       "16         0   -1719.934226         35              среднее             1   \n",
       "17         0   -2369.999720         33               высшее             0   \n",
       "18         0  400281.136913         53              среднее             1   \n",
       "19         0  -10038.818549         48              СРЕДНЕЕ             1   \n",
       "\n",
       "       family_status  family_status_id gender income_type  debt  \\\n",
       "0    женат / замужем                 0      F   сотрудник     0   \n",
       "1    женат / замужем                 0      F   сотрудник     0   \n",
       "2    женат / замужем                 0      M   сотрудник     0   \n",
       "3    женат / замужем                 0      M   сотрудник     0   \n",
       "4   гражданский брак                 1      F   пенсионер     0   \n",
       "5   гражданский брак                 1      M   компаньон     0   \n",
       "6    женат / замужем                 0      F   компаньон     0   \n",
       "7    женат / замужем                 0      M   сотрудник     0   \n",
       "8   гражданский брак                 1      F   сотрудник     0   \n",
       "9    женат / замужем                 0      M   сотрудник     0   \n",
       "10   женат / замужем                 0      M   компаньон     0   \n",
       "11   женат / замужем                 0      F   сотрудник     0   \n",
       "12  гражданский брак                 1      M   пенсионер     0   \n",
       "13   женат / замужем                 0      F   сотрудник     0   \n",
       "14  гражданский брак                 1      F   компаньон     1   \n",
       "15   женат / замужем                 0      F   сотрудник     0   \n",
       "16   женат / замужем                 0      F   сотрудник     0   \n",
       "17  гражданский брак                 1      M   сотрудник     0   \n",
       "18    вдовец / вдова                 2      F   пенсионер     0   \n",
       "19         в разводе                 3      F   сотрудник     0   \n",
       "\n",
       "     total_income                                 purpose  \n",
       "0   253875.639453                           покупка жилья  \n",
       "1   112080.014102                 приобретение автомобиля  \n",
       "2   145885.952297                           покупка жилья  \n",
       "3   267628.550329              дополнительное образование  \n",
       "4   158616.077870                         сыграть свадьбу  \n",
       "5   255763.565419                           покупка жилья  \n",
       "6   240525.971920                       операции с жильем  \n",
       "7   135823.934197                             образование  \n",
       "8    95856.832424                   на проведение свадьбы  \n",
       "9   144425.938277                 покупка жилья для семьи  \n",
       "10  113943.491460                    покупка недвижимости  \n",
       "11   77069.234271       покупка коммерческой недвижимости  \n",
       "12            NaN                         сыграть свадьбу  \n",
       "13  130458.228857                 приобретение автомобиля  \n",
       "14  165127.911772              покупка жилой недвижимости  \n",
       "15  116820.904450  строительство собственной недвижимости  \n",
       "16  289202.704229                            недвижимость  \n",
       "17   90410.586745              строительство недвижимости  \n",
       "18   56823.777243      на покупку подержанного автомобиля  \n",
       "19  242831.107982            на покупку своего автомобиля  "
      ]
     },
     "execution_count": 3,
     "metadata": {},
     "output_type": "execute_result"
    }
   ],
   "source": [
    "data.head(20)"
   ]
  },
  {
   "cell_type": "markdown",
   "id": "34617eae-1351-42fc-9696-ba731630ea07",
   "metadata": {},
   "source": [
    "### 1.3. Просмотр общей информации с помощью метода `info()` "
   ]
  },
  {
   "cell_type": "code",
   "execution_count": 4,
   "id": "48cb086d-a342-4a8f-8fcb-3e30f0d94c56",
   "metadata": {},
   "outputs": [
    {
     "name": "stdout",
     "output_type": "stream",
     "text": [
      "<class 'pandas.core.frame.DataFrame'>\n",
      "RangeIndex: 21525 entries, 0 to 21524\n",
      "Data columns (total 12 columns):\n",
      " #   Column            Non-Null Count  Dtype  \n",
      "---  ------            --------------  -----  \n",
      " 0   children          21525 non-null  int64  \n",
      " 1   days_employed     19351 non-null  float64\n",
      " 2   dob_years         21525 non-null  int64  \n",
      " 3   education         21525 non-null  object \n",
      " 4   education_id      21525 non-null  int64  \n",
      " 5   family_status     21525 non-null  object \n",
      " 6   family_status_id  21525 non-null  int64  \n",
      " 7   gender            21525 non-null  object \n",
      " 8   income_type       21525 non-null  object \n",
      " 9   debt              21525 non-null  int64  \n",
      " 10  total_income      19351 non-null  float64\n",
      " 11  purpose           21525 non-null  object \n",
      "dtypes: float64(2), int64(5), object(5)\n",
      "memory usage: 2.0+ MB\n"
     ]
    }
   ],
   "source": [
    "data.info()"
   ]
  },
  {
   "cell_type": "markdown",
   "id": "a313fb67-538e-4b34-aa71-0439635f60ec",
   "metadata": {},
   "source": [
    "## 2. Нахождение и удаление пропусков, а так же обработка аномальных значений.\n",
    "---"
   ]
  },
  {
   "cell_type": "markdown",
   "id": "3a82ebbc-f8e3-4e86-88bb-3ba778d47202",
   "metadata": {},
   "source": [
    "### 2.1. Нахождение суммы пропусков с помощью метода `isna()` и `sum()`"
   ]
  },
  {
   "cell_type": "code",
   "execution_count": 5,
   "id": "87ff60f0-3d43-4d20-b2d9-25524cce2833",
   "metadata": {},
   "outputs": [
    {
     "data": {
      "text/plain": [
       "children               0\n",
       "days_employed       2174\n",
       "dob_years              0\n",
       "education              0\n",
       "education_id           0\n",
       "family_status          0\n",
       "family_status_id       0\n",
       "gender                 0\n",
       "income_type            0\n",
       "debt                   0\n",
       "total_income        2174\n",
       "purpose                0\n",
       "dtype: int64"
      ]
     },
     "execution_count": 5,
     "metadata": {},
     "output_type": "execute_result"
    }
   ],
   "source": [
    "data.isna().sum()"
   ]
  },
  {
   "cell_type": "markdown",
   "id": "7e31df06-672e-497d-9080-ee549ebc6e0d",
   "metadata": {},
   "source": [
    "### 2.1. Замена пропусков медианным значением "
   ]
  },
  {
   "cell_type": "code",
   "execution_count": 6,
   "id": "f0409eda-3a42-454d-aaf1-24a08e907443",
   "metadata": {},
   "outputs": [],
   "source": [
    "for t in data['income_type'].unique():\n",
    "    data.loc[(data['income_type'] == t) & (data['total_income'].isna()), 'total_income'] = \\\n",
    "    data.loc[(data['income_type'] == t), 'total_income'].median()"
   ]
  },
  {
   "cell_type": "markdown",
   "id": "04d7f1cd-3b26-4033-9d3a-383eb18ef13f",
   "metadata": {},
   "source": [
    "### 2.3. Замена отрицательных значений с  помощью метода `abc()`"
   ]
  },
  {
   "cell_type": "code",
   "execution_count": 7,
   "id": "6df0c9f2-8f16-45b1-9058-ed291dc4d489",
   "metadata": {},
   "outputs": [],
   "source": [
    "data['days_employed'] = data['days_employed'].abs()"
   ]
  },
  {
   "cell_type": "markdown",
   "id": "17a206b6-9a75-4ad3-b27b-cb620b589d65",
   "metadata": {},
   "source": [
    "### 2.4. Группировка данных и вывод медианного значения для столбца **`days_employed`**/ с помощю `groupby()` и `agg()`"
   ]
  },
  {
   "cell_type": "code",
   "execution_count": 8,
   "id": "82a745af-ab3f-4f33-9a6f-4dd9d3ff8597",
   "metadata": {},
   "outputs": [
    {
     "data": {
      "text/plain": [
       "income_type\n",
       "безработный        366413.652744\n",
       "в декрете            3296.759962\n",
       "госслужащий          2689.368353\n",
       "компаньон            1547.382223\n",
       "пенсионер          365213.306266\n",
       "предприниматель       520.848083\n",
       "сотрудник            1574.202821\n",
       "студент               578.751554\n",
       "Name: days_employed, dtype: float64"
      ]
     },
     "execution_count": 8,
     "metadata": {},
     "output_type": "execute_result"
    }
   ],
   "source": [
    "data.groupby('income_type')['days_employed'].agg('median')"
   ]
  },
  {
   "cell_type": "markdown",
   "id": "dcb90078-c6f5-4623-8d43-4f9cd7e389bc",
   "metadata": {},
   "source": [
    "### 2.5. Вывод уникальных значений с помощью метода `unique()` в столбце **`children`**"
   ]
  },
  {
   "cell_type": "code",
   "execution_count": 9,
   "id": "e3e306fd-c620-4366-8b0d-1d02a4a673b6",
   "metadata": {},
   "outputs": [
    {
     "data": {
      "text/plain": [
       "array([ 1,  0,  3,  2, -1,  4, 20,  5], dtype=int64)"
      ]
     },
     "execution_count": 9,
     "metadata": {},
     "output_type": "execute_result"
    }
   ],
   "source": [
    "data['children'].unique()"
   ]
  },
  {
   "cell_type": "markdown",
   "id": "404128c8-6338-47d2-a23a-4cd237ebbd8a",
   "metadata": {},
   "source": [
    "### 2.6. Удаление аномальных значений в столбце **`children`** и проверка"
   ]
  },
  {
   "cell_type": "code",
   "execution_count": 10,
   "id": "6bcfd145-7d8a-48b9-875e-ee24edbc5452",
   "metadata": {},
   "outputs": [],
   "source": [
    "data = data[(data['children'] != -1) & (data['children'] != 20)]"
   ]
  },
  {
   "cell_type": "code",
   "execution_count": 11,
   "id": "7f7f77fc-14bc-4d72-a9ed-22803550e210",
   "metadata": {},
   "outputs": [
    {
     "data": {
      "text/plain": [
       "array([1, 0, 3, 2, 4, 5], dtype=int64)"
      ]
     },
     "execution_count": 11,
     "metadata": {},
     "output_type": "execute_result"
    }
   ],
   "source": [
    "data['children'].unique()"
   ]
  },
  {
   "cell_type": "markdown",
   "id": "a4d1bfe9-395c-4104-bbec-900c4c21696a",
   "metadata": {},
   "source": [
    "### 2.7. Заполнение пропусков в столбце **`days_employed`** медианным значением по типу занятости столбца `income_type`"
   ]
  },
  {
   "cell_type": "code",
   "execution_count": 12,
   "id": "ecc3698e-bf40-40c0-8bc9-a305325ad5c5",
   "metadata": {},
   "outputs": [],
   "source": [
    "for t in data['income_type'].unique():\n",
    "    data.loc[(data['income_type'] == t) & (data['days_employed'].isna()), 'days_employed'] = \\\n",
    "    data.loc[(data['income_type'] == t), 'days_employed'].median()"
   ]
  },
  {
   "cell_type": "code",
   "execution_count": 13,
   "id": "837535e5-d831-4941-8eaf-acc0384187a6",
   "metadata": {},
   "outputs": [
    {
     "data": {
      "text/plain": [
       "children            0\n",
       "days_employed       0\n",
       "dob_years           0\n",
       "education           0\n",
       "education_id        0\n",
       "family_status       0\n",
       "family_status_id    0\n",
       "gender              0\n",
       "income_type         0\n",
       "debt                0\n",
       "total_income        0\n",
       "purpose             0\n",
       "dtype: int64"
      ]
     },
     "execution_count": 13,
     "metadata": {},
     "output_type": "execute_result"
    }
   ],
   "source": [
    "data.isna().sum()"
   ]
  },
  {
   "cell_type": "markdown",
   "id": "5b2f4e3d-a304-465a-8418-9194538ff630",
   "metadata": {},
   "source": [
    "### 2.8. Замена типов данных в столбце **`days_employed`** на целочисленный с помощю метода `astype()`"
   ]
  },
  {
   "cell_type": "code",
   "execution_count": 14,
   "id": "64cb1d58-91b2-4018-9346-ea4a4b439d39",
   "metadata": {},
   "outputs": [],
   "source": [
    "data['total_income'] = data['total_income'].astype(int)"
   ]
  },
  {
   "cell_type": "markdown",
   "id": "a78f7b6e-53a8-4a1f-9349-8d78613dddc1",
   "metadata": {},
   "source": [
    "### 2.9. Обработка дубликатов в столбце `education` и приведение строк к нижнему регистру "
   ]
  },
  {
   "cell_type": "code",
   "execution_count": 15,
   "id": "c9b5c50c-2790-476a-ba6f-e7b554adec6d",
   "metadata": {},
   "outputs": [],
   "source": [
    "data['education'] = data['education'].str.lower()"
   ]
  },
  {
   "cell_type": "markdown",
   "id": "3335cb26-b7bb-48b7-9633-07fcb7cd178a",
   "metadata": {},
   "source": [
    "### 2.10. Вывод строк дубликатов и удаление с помощью `duplicated()` и `drop_duplicates()` "
   ]
  },
  {
   "cell_type": "code",
   "execution_count": 16,
   "id": "ed1d9b0d-76b5-4dbd-9417-c6ccf0bd6f06",
   "metadata": {},
   "outputs": [
    {
     "data": {
      "text/plain": [
       "71"
      ]
     },
     "execution_count": 16,
     "metadata": {},
     "output_type": "execute_result"
    }
   ],
   "source": [
    "data.duplicated().sum()"
   ]
  },
  {
   "cell_type": "code",
   "execution_count": 17,
   "id": "231bfdb2-e940-40b2-8a30-0b84c36822c7",
   "metadata": {},
   "outputs": [],
   "source": [
    "data = data.drop_duplicates()"
   ]
  },
  {
   "cell_type": "markdown",
   "id": "caa3d03c-972b-490a-be15-4d9c1bf16b67",
   "metadata": {},
   "source": [
    "## 3 Категоризация данных по категориям\n",
    "---"
   ]
  },
  {
   "cell_type": "markdown",
   "id": "c21d2751-0886-4e8f-bcdc-f2f0c4c9a260",
   "metadata": {},
   "source": [
    "### 3.1. Создание функции нового столбца с категориями доходов столбца **`total_income`** "
   ]
  },
  {
   "cell_type": "code",
   "execution_count": 18,
   "id": "701db294-b608-4093-9ca6-87088161e1de",
   "metadata": {},
   "outputs": [],
   "source": [
    "def categorize_income(income):\n",
    "    try:\n",
    "        if 0 <= income <= 30000:\n",
    "            return 'E'\n",
    "        elif 30001 <= income <= 50000:\n",
    "            return 'D'\n",
    "        elif 50001 <= income <= 200000:\n",
    "            return 'C'\n",
    "        elif 200001 <= income <= 1000000:\n",
    "            return 'B'\n",
    "        elif income >= 1000001:\n",
    "            return 'A'\n",
    "    except:\n",
    "        pass"
   ]
  },
  {
   "cell_type": "code",
   "execution_count": 19,
   "id": "be9a9db8-cfc0-490c-8676-a0bc7b8d4e30",
   "metadata": {},
   "outputs": [],
   "source": [
    "data['total_income_category'] = data['total_income'].apply(categorize_income)"
   ]
  },
  {
   "cell_type": "markdown",
   "id": "72a52c9a-ac98-4885-97ac-7b7f28bed415",
   "metadata": {},
   "source": [
    "### 3.2. Вывод уникальных значений столбца **`purpose`**"
   ]
  },
  {
   "cell_type": "code",
   "execution_count": 20,
   "id": "f321d254-a746-4354-99ae-6c5d208c3e3a",
   "metadata": {},
   "outputs": [
    {
     "data": {
      "text/plain": [
       "array(['покупка жилья', 'приобретение автомобиля',\n",
       "       'дополнительное образование', 'сыграть свадьбу',\n",
       "       'операции с жильем', 'образование', 'на проведение свадьбы',\n",
       "       'покупка жилья для семьи', 'покупка недвижимости',\n",
       "       'покупка коммерческой недвижимости', 'покупка жилой недвижимости',\n",
       "       'строительство собственной недвижимости', 'недвижимость',\n",
       "       'строительство недвижимости', 'на покупку подержанного автомобиля',\n",
       "       'на покупку своего автомобиля',\n",
       "       'операции с коммерческой недвижимостью',\n",
       "       'строительство жилой недвижимости', 'жилье',\n",
       "       'операции со своей недвижимостью', 'автомобили',\n",
       "       'заняться образованием', 'сделка с подержанным автомобилем',\n",
       "       'получение образования', 'автомобиль', 'свадьба',\n",
       "       'получение дополнительного образования', 'покупка своего жилья',\n",
       "       'операции с недвижимостью', 'получение высшего образования',\n",
       "       'свой автомобиль', 'сделка с автомобилем',\n",
       "       'профильное образование', 'высшее образование',\n",
       "       'покупка жилья для сдачи', 'на покупку автомобиля', 'ремонт жилью',\n",
       "       'заняться высшим образованием'], dtype=object)"
      ]
     },
     "execution_count": 20,
     "metadata": {},
     "output_type": "execute_result"
    }
   ],
   "source": [
    "data['purpose'].unique()"
   ]
  },
  {
   "cell_type": "markdown",
   "id": "30b8eb22-4a5d-4454-93ee-4c9500736cd7",
   "metadata": {},
   "source": [
    "### 3.3. Создание функции нового столбца на основе столбца **`purpose`** "
   ]
  },
  {
   "cell_type": "code",
   "execution_count": 21,
   "id": "8a0d535e-7811-49bf-bdab-2f2ab617cb7d",
   "metadata": {},
   "outputs": [],
   "source": [
    "def categorize_purpose(row):\n",
    "    try:\n",
    "        if 'автом' in row:\n",
    "            return 'операции с автомобилем'\n",
    "        elif 'жил' in row or 'недвиж' in row:\n",
    "            return 'операции с недвижимостью'\n",
    "        elif 'свад' in row:\n",
    "            return 'проведение свадьбы'\n",
    "        elif 'образов' in row:\n",
    "            return 'получение образования'\n",
    "    except:\n",
    "        return 'нет категории'"
   ]
  },
  {
   "cell_type": "code",
   "execution_count": 22,
   "id": "ff356c25-94b6-496d-9a32-b7846a892dd1",
   "metadata": {},
   "outputs": [],
   "source": [
    "data['purpose_category'] = data['purpose'].apply(categorize_purpose)"
   ]
  },
  {
   "cell_type": "markdown",
   "id": "ad72c883-0095-4693-a91c-260876caedd4",
   "metadata": {},
   "source": [
    "## 4. Сортировка данных\n",
    "---"
   ]
  },
  {
   "cell_type": "code",
   "execution_count": 23,
   "id": "418933f7-3d66-450e-83c7-cc96b05e2ea1",
   "metadata": {},
   "outputs": [
    {
     "data": {
      "text/plain": [
       "array([1, 0, 3, 2, 4, 5], dtype=int64)"
      ]
     },
     "execution_count": 23,
     "metadata": {},
     "output_type": "execute_result"
    }
   ],
   "source": [
    "data['children'].unique()"
   ]
  },
  {
   "cell_type": "markdown",
   "id": "a44960b1-2e60-4e7c-b7f9-adcb6b0eadf8",
   "metadata": {},
   "source": [
    "### 4.1. Редактирование строк и приведение к удобному виду столбца **`children`**"
   ]
  },
  {
   "cell_type": "code",
   "execution_count": 24,
   "id": "bdb2b007-0c3e-496c-8927-4a66ca74dcf8",
   "metadata": {},
   "outputs": [],
   "source": [
    "data.loc[data['children'] == 0, 'children'] = 'Детей нет' \n",
    "data.loc[data['children'] == 1, 'children'] = '1 ребенок'\n",
    "data.loc[data['children'] == 2, 'children'] = '2 ребенка'\n",
    "data.loc[data['children'] == 3, 'children'] = '3 ребенка'\n",
    "data.loc[data['children'] == 4, 'children'] = '4 ребенка'\n",
    "data.loc[data['children'] == 5, 'children'] = '5 детей'"
   ]
  },
  {
   "cell_type": "markdown",
   "id": "b41543b7-6897-4e84-8bc8-974e7dca05e1",
   "metadata": {},
   "source": [
    "### 4.2. Создание функции для расчёта процента с точностью до двух знаков после запятой"
   ]
  },
  {
   "cell_type": "code",
   "execution_count": 25,
   "id": "ccc7dbc4-799f-4b9f-8de8-3444558a4af1",
   "metadata": {},
   "outputs": [],
   "source": [
    "def percent(p):\n",
    "    return '{:.2}'.format(p.mean())"
   ]
  },
  {
   "cell_type": "markdown",
   "id": "7142b4f6-733a-4118-bc05-33880b58668c",
   "metadata": {},
   "source": [
    "### 4.3. Группировка данных по столбцу **`children`**"
   ]
  },
  {
   "cell_type": "code",
   "execution_count": 26,
   "id": "b117938f-83ef-41ba-a6cd-6430503e8e04",
   "metadata": {},
   "outputs": [
    {
     "data": {
      "text/html": [
       "<div>\n",
       "<style scoped>\n",
       "    .dataframe tbody tr th:only-of-type {\n",
       "        vertical-align: middle;\n",
       "    }\n",
       "\n",
       "    .dataframe tbody tr th {\n",
       "        vertical-align: top;\n",
       "    }\n",
       "\n",
       "    .dataframe thead th {\n",
       "        text-align: right;\n",
       "    }\n",
       "</style>\n",
       "<table border=\"1\" class=\"dataframe\">\n",
       "  <thead>\n",
       "    <tr style=\"text-align: right;\">\n",
       "      <th></th>\n",
       "      <th>count</th>\n",
       "      <th>percent</th>\n",
       "    </tr>\n",
       "    <tr>\n",
       "      <th>children</th>\n",
       "      <th></th>\n",
       "      <th></th>\n",
       "    </tr>\n",
       "  </thead>\n",
       "  <tbody>\n",
       "    <tr>\n",
       "      <th>4 ребенка</th>\n",
       "      <td>41</td>\n",
       "      <td>0.098</td>\n",
       "    </tr>\n",
       "    <tr>\n",
       "      <th>2 ребенка</th>\n",
       "      <td>2052</td>\n",
       "      <td>0.095</td>\n",
       "    </tr>\n",
       "    <tr>\n",
       "      <th>1 ребенок</th>\n",
       "      <td>4808</td>\n",
       "      <td>0.092</td>\n",
       "    </tr>\n",
       "    <tr>\n",
       "      <th>3 ребенка</th>\n",
       "      <td>330</td>\n",
       "      <td>0.082</td>\n",
       "    </tr>\n",
       "    <tr>\n",
       "      <th>Детей нет</th>\n",
       "      <td>14091</td>\n",
       "      <td>0.075</td>\n",
       "    </tr>\n",
       "    <tr>\n",
       "      <th>5 детей</th>\n",
       "      <td>9</td>\n",
       "      <td>0.0</td>\n",
       "    </tr>\n",
       "  </tbody>\n",
       "</table>\n",
       "</div>"
      ],
      "text/plain": [
       "           count percent\n",
       "children                \n",
       "4 ребенка     41   0.098\n",
       "2 ребенка   2052   0.095\n",
       "1 ребенок   4808   0.092\n",
       "3 ребенка    330   0.082\n",
       "Детей нет  14091   0.075\n",
       "5 детей        9     0.0"
      ]
     },
     "execution_count": 26,
     "metadata": {},
     "output_type": "execute_result"
    }
   ],
   "source": [
    "data.groupby('children')['debt'].agg(['count', percent]).sort_values(by=['percent'], ascending=False)"
   ]
  },
  {
   "cell_type": "markdown",
   "id": "18642a09-ac22-4287-8532-9d6088b75357",
   "metadata": {},
   "source": [
    "**Вывод:** Таким образом, получено более точное представление о том, как наличие детей влияет на финансовое положение семьи. Это помогает понять, насколько сложнее становится финансовое положение семьи с появлением каждого дополнительного ребенка.  "
   ]
  },
  {
   "cell_type": "markdown",
   "id": "55b0f951-aa48-41bb-bfb9-d088157a95cc",
   "metadata": {},
   "source": [
    "### 4.4. Группировка данных по столбцу **`family_status`**"
   ]
  },
  {
   "cell_type": "code",
   "execution_count": 27,
   "id": "079b3597-31de-48a9-85d9-bad8c1be7076",
   "metadata": {},
   "outputs": [
    {
     "data": {
      "text/html": [
       "<div>\n",
       "<style scoped>\n",
       "    .dataframe tbody tr th:only-of-type {\n",
       "        vertical-align: middle;\n",
       "    }\n",
       "\n",
       "    .dataframe tbody tr th {\n",
       "        vertical-align: top;\n",
       "    }\n",
       "\n",
       "    .dataframe thead th {\n",
       "        text-align: right;\n",
       "    }\n",
       "</style>\n",
       "<table border=\"1\" class=\"dataframe\">\n",
       "  <thead>\n",
       "    <tr style=\"text-align: right;\">\n",
       "      <th></th>\n",
       "      <th>count</th>\n",
       "      <th>percent</th>\n",
       "    </tr>\n",
       "    <tr>\n",
       "      <th>family_status</th>\n",
       "      <th></th>\n",
       "      <th></th>\n",
       "    </tr>\n",
       "  </thead>\n",
       "  <tbody>\n",
       "    <tr>\n",
       "      <th>Не женат / не замужем</th>\n",
       "      <td>2796</td>\n",
       "      <td>0.098</td>\n",
       "    </tr>\n",
       "    <tr>\n",
       "      <th>гражданский брак</th>\n",
       "      <td>4134</td>\n",
       "      <td>0.093</td>\n",
       "    </tr>\n",
       "    <tr>\n",
       "      <th>женат / замужем</th>\n",
       "      <td>12261</td>\n",
       "      <td>0.076</td>\n",
       "    </tr>\n",
       "    <tr>\n",
       "      <th>в разводе</th>\n",
       "      <td>1189</td>\n",
       "      <td>0.071</td>\n",
       "    </tr>\n",
       "    <tr>\n",
       "      <th>вдовец / вдова</th>\n",
       "      <td>951</td>\n",
       "      <td>0.066</td>\n",
       "    </tr>\n",
       "  </tbody>\n",
       "</table>\n",
       "</div>"
      ],
      "text/plain": [
       "                       count percent\n",
       "family_status                       \n",
       "Не женат / не замужем   2796   0.098\n",
       "гражданский брак        4134   0.093\n",
       "женат / замужем        12261   0.076\n",
       "в разводе               1189   0.071\n",
       "вдовец / вдова           951   0.066"
      ]
     },
     "execution_count": 27,
     "metadata": {},
     "output_type": "execute_result"
    }
   ],
   "source": [
    "data.groupby('family_status')['debt'].agg(['count', percent]).sort_values(by=['percent'], ascending=False)"
   ]
  },
  {
   "cell_type": "markdown",
   "id": "c92f651f-f3e8-4dac-8ebf-8a3b17457521",
   "metadata": {},
   "source": [
    "**Вывод:** Как видно меньше всего долгов у категории вдовец/вдова, значит они отсносятся к финансам более ответственно, у категории не женат/не замужем, больше всех долгов в процентном соотношении, значит и расходов значительно больше, что является важным фактором на возврат кредита в срок."
   ]
  },
  {
   "cell_type": "markdown",
   "id": "ea5d1bc5-addb-4ba5-baa8-4b62b47c2216",
   "metadata": {},
   "source": [
    "### 4.5. Группировка данных по столбцу **`total_income_category`** "
   ]
  },
  {
   "cell_type": "code",
   "execution_count": 28,
   "id": "91baa8d4-1586-41bd-a346-6798b2d46c56",
   "metadata": {},
   "outputs": [
    {
     "data": {
      "text/html": [
       "<div>\n",
       "<style scoped>\n",
       "    .dataframe tbody tr th:only-of-type {\n",
       "        vertical-align: middle;\n",
       "    }\n",
       "\n",
       "    .dataframe tbody tr th {\n",
       "        vertical-align: top;\n",
       "    }\n",
       "\n",
       "    .dataframe thead th {\n",
       "        text-align: right;\n",
       "    }\n",
       "</style>\n",
       "<table border=\"1\" class=\"dataframe\">\n",
       "  <thead>\n",
       "    <tr style=\"text-align: right;\">\n",
       "      <th></th>\n",
       "      <th>count</th>\n",
       "      <th>percent</th>\n",
       "    </tr>\n",
       "    <tr>\n",
       "      <th>total_income_category</th>\n",
       "      <th></th>\n",
       "      <th></th>\n",
       "    </tr>\n",
       "  </thead>\n",
       "  <tbody>\n",
       "    <tr>\n",
       "      <th>E</th>\n",
       "      <td>22</td>\n",
       "      <td>0.091</td>\n",
       "    </tr>\n",
       "    <tr>\n",
       "      <th>C</th>\n",
       "      <td>15921</td>\n",
       "      <td>0.085</td>\n",
       "    </tr>\n",
       "    <tr>\n",
       "      <th>A</th>\n",
       "      <td>25</td>\n",
       "      <td>0.08</td>\n",
       "    </tr>\n",
       "    <tr>\n",
       "      <th>B</th>\n",
       "      <td>5014</td>\n",
       "      <td>0.071</td>\n",
       "    </tr>\n",
       "    <tr>\n",
       "      <th>D</th>\n",
       "      <td>349</td>\n",
       "      <td>0.06</td>\n",
       "    </tr>\n",
       "  </tbody>\n",
       "</table>\n",
       "</div>"
      ],
      "text/plain": [
       "                       count percent\n",
       "total_income_category               \n",
       "E                         22   0.091\n",
       "C                      15921   0.085\n",
       "A                         25    0.08\n",
       "B                       5014   0.071\n",
       "D                        349    0.06"
      ]
     },
     "execution_count": 28,
     "metadata": {},
     "output_type": "execute_result"
    }
   ],
   "source": [
    "data.groupby('total_income_category')['debt'].agg(['count', percent]).sort_values(by=['percent'], ascending=False)"
   ]
  },
  {
   "cell_type": "markdown",
   "id": "6cd8c090-27b2-480f-958a-5fcb57b65c65",
   "metadata": {},
   "source": [
    "**Вывод:** Ранее были поделены кредитополучатели на категории по доходам в отдельный столбец, что дает возможность более точно использовать информацию, как видно по процентному содержанию люди с более низким доходом имееют большую степень просрочки. "
   ]
  },
  {
   "cell_type": "markdown",
   "id": "ed80a88e-d40c-4a5e-94f8-2ad30ab3f1fe",
   "metadata": {},
   "source": [
    "### 4.5. Группировка данных по столбцу **`purpose_category`**"
   ]
  },
  {
   "cell_type": "code",
   "execution_count": 29,
   "id": "a8d50680-9450-42e3-9f0b-1d0908e8e52f",
   "metadata": {},
   "outputs": [
    {
     "data": {
      "text/html": [
       "<div>\n",
       "<style scoped>\n",
       "    .dataframe tbody tr th:only-of-type {\n",
       "        vertical-align: middle;\n",
       "    }\n",
       "\n",
       "    .dataframe tbody tr th {\n",
       "        vertical-align: top;\n",
       "    }\n",
       "\n",
       "    .dataframe thead th {\n",
       "        text-align: right;\n",
       "    }\n",
       "</style>\n",
       "<table border=\"1\" class=\"dataframe\">\n",
       "  <thead>\n",
       "    <tr style=\"text-align: right;\">\n",
       "      <th></th>\n",
       "      <th>count</th>\n",
       "      <th>percent</th>\n",
       "    </tr>\n",
       "    <tr>\n",
       "      <th>purpose_category</th>\n",
       "      <th></th>\n",
       "      <th></th>\n",
       "    </tr>\n",
       "  </thead>\n",
       "  <tbody>\n",
       "    <tr>\n",
       "      <th>операции с автомобилем</th>\n",
       "      <td>4279</td>\n",
       "      <td>0.093</td>\n",
       "    </tr>\n",
       "    <tr>\n",
       "      <th>получение образования</th>\n",
       "      <td>3988</td>\n",
       "      <td>0.093</td>\n",
       "    </tr>\n",
       "    <tr>\n",
       "      <th>проведение свадьбы</th>\n",
       "      <td>2313</td>\n",
       "      <td>0.079</td>\n",
       "    </tr>\n",
       "    <tr>\n",
       "      <th>операции с недвижимостью</th>\n",
       "      <td>10751</td>\n",
       "      <td>0.073</td>\n",
       "    </tr>\n",
       "  </tbody>\n",
       "</table>\n",
       "</div>"
      ],
      "text/plain": [
       "                          count percent\n",
       "purpose_category                       \n",
       "операции с автомобилем     4279   0.093\n",
       "получение образования      3988   0.093\n",
       "проведение свадьбы         2313   0.079\n",
       "операции с недвижимостью  10751   0.073"
      ]
     },
     "execution_count": 29,
     "metadata": {},
     "output_type": "execute_result"
    }
   ],
   "source": [
    "data.groupby('purpose_category')['debt'].agg(['count', percent]).sort_values(by=['percent'], ascending=False)"
   ]
  },
  {
   "cell_type": "markdown",
   "id": "d55c63d2-63d0-4fa4-87e0-c4aff5355a2f",
   "metadata": {},
   "source": [
    "**Вывод:** До этого был создан столбец, который поделил кредитополучаталей по категориям запросов на кредит, как видно самый большой процент возврата в срок у категории операции с автомобилем, а значит люди с данной категории будут хуже всего возвращать деньги в срок. Категория операции с недвижимостью (скорее всего ипотечные кредиты) имеет самый маленький процент невозврата, значит люди с данной категории будут более ответственные при возврате кредита, больше суммы, больше проверок при выдаче кредитов, а значит кредитоспособность клиента лучше. "
   ]
  },
  {
   "cell_type": "markdown",
   "id": "f9ad60f6-dc9a-4fe1-8bcb-508dd65f6203",
   "metadata": {},
   "source": [
    "## 5. Общий вывод по 4 пункту\n",
    "---"
   ]
  },
  {
   "cell_type": "markdown",
   "id": "f4b87909-b590-49ea-a5da-5aa59ef03030",
   "metadata": {},
   "source": [
    "<div class=\"alert alert-info\"; style=\"border-left: 5px solid SteelBlue\">\n",
    "<h4><font color=\"#FFA500\">Общий вывод:</font></h4>    \n",
    "\n",
    "В процессе анализа стабильности плательщиков, были исследованы, проанализированы и обновлены недостающие данные, устранены дубликаты и клиенты респределены на группы согласно различным критериям и категориям. В результате проведенной работы, на основании изученных данных, были сделаны следующие заключения:\n",
    "    \n",
    "Бездетные семьи реже допускают задержки по кредитам - 7.54%,  так как в семьях с детьми расходы растут, а так же бывают непредвиденные расходы. В процессе обработки данных были преобразованы строки в столбце 'children', в последствии сгруппированы и отсортированы.\n",
    "    \n",
    "У женатых или замужних клиентов процент должников ниже на 2.2%, чем у никогда не состоящих в браке, так как в основном общий доход складывается засчёт двух членов семьи. Заёмщики, со статусом: \"вдовец / вдова\", имеют самый малый процент не возвратов кредитов 6,62 % (меньше всех). Овдовевшие это, как правило, возрастные люди и более ответственные люди. Для получение подброй информации данные были сгруппированы по столбцу 'family_status' и отсортированы. \n",
    "    \n",
    "Средний уровень дохода или ниже среднего связан с частотой проблем с оплатой кредитов: люди с таким заработком чаще сталкиваются с трудностями при своевременной оплате кредитов. Данные были сгруппированы по столбцу 'total_income_category' и в дальнейшем отсортированы.\n",
    "    \n",
    "Операции с недвижимостью, особенно ипотечные кредиты, характеризуются очень низким процентом невозвратов - 7.26%. Это означает, что клиенты, получающие такие кредиты, обычно являются высокоответственными и надежными. Вследствие этого, их кредитоспособность, как правило, выше, чем у клиентов с другими видами кредитов, а, например, у операций с автомобилем процент возврата в срок в  является самым высоким - 9.35%, потому что эти операции связаны с покупкой автомобилей. Получение образования имеет тоже достаточно высокий процент - 9.25% связано это с тем, что образование является одним из факторов, влияющих на уровень дохода. Чем выше уровень образования, тем больше шансов на получение высокооплачиваемой работы.\n",
    "Для получения информации данные группировались по столбцу 'purpose_category' и были получены следующие выводы. \n",
    "\n",
    "    \n",
    "</div>"
   ]
  },
  {
   "cell_type": "code",
   "execution_count": null,
   "id": "1046068a-ac1e-49b0-995c-402e416b5cf7",
   "metadata": {},
   "outputs": [],
   "source": []
  }
 ],
 "metadata": {
  "kernelspec": {
   "display_name": "Python 3 (ipykernel)",
   "language": "python",
   "name": "python3"
  },
  "language_info": {
   "codemirror_mode": {
    "name": "ipython",
    "version": 3
   },
   "file_extension": ".py",
   "mimetype": "text/x-python",
   "name": "python",
   "nbconvert_exporter": "python",
   "pygments_lexer": "ipython3",
   "version": "3.9.18"
  }
 },
 "nbformat": 4,
 "nbformat_minor": 5
}
